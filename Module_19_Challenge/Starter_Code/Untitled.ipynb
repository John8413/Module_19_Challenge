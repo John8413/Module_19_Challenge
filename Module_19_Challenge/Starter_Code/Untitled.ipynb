{
 "cells": [
  {
   "cell_type": "code",
   "execution_count": 1,
   "id": "219de13b-05dd-4227-aa51-0c8306f65c4d",
   "metadata": {},
   "outputs": [
    {
     "name": "stderr",
     "output_type": "stream",
     "text": [
      "'pwd' is not recognized as an internal or external command,\n",
      "operable program or batch file.\n"
     ]
    }
   ],
   "source": [
    "!pwd"
   ]
  },
  {
   "cell_type": "code",
   "execution_count": 2,
   "id": "c9db9824-3735-4bef-b7a2-89f13103d95d",
   "metadata": {},
   "outputs": [
    {
     "name": "stderr",
     "output_type": "stream",
     "text": [
      "'cwd' is not recognized as an internal or external command,\n",
      "operable program or batch file.\n"
     ]
    }
   ],
   "source": [
    "!cwd"
   ]
  },
  {
   "cell_type": "code",
   "execution_count": 10,
   "id": "480e56c7-751a-49b4-b2b4-ec4bfb67f998",
   "metadata": {},
   "outputs": [],
   "source": [
    "# Cryptocurrency Wallet\n",
    "################################################################################\n",
    "\n",
    "# This file contains the Ethereum transaction functions that you have created throughout this module’s lessons. By using import statements, you will integrate this `crypto_wallet.py` Python script into the Fintech Finder interface program that is found in the `fintech_finder.py` file.\n",
    "\n",
    "################################################################################\n",
    "# Imports\n",
    "import os\n",
    "import requests\n",
    "from dotenv import load_dotenv\n",
    "load_dotenv()\n",
    "from bip44 import Wallet\n",
    "from web3 import Account\n",
    "from web3 import middleware\n",
    "from web3.gas_strategies.time_based import medium_gas_price_strategy\n",
    "from web3 import Web3\n",
    "w3 = Web3(Web3.HTTPProvider('HTTP://127.0.0.1:7545'))"
   ]
  },
  {
   "cell_type": "code",
   "execution_count": 11,
   "id": "ff8322cf-eb37-4bff-98e6-d83c43f389c1",
   "metadata": {},
   "outputs": [
    {
     "data": {
      "text/plain": [
       "['AsyncHTTPProvider',\n",
       " 'EthereumTesterProvider',\n",
       " 'HTTPProvider',\n",
       " 'IPCProvider',\n",
       " 'RequestManager',\n",
       " 'WebsocketProvider',\n",
       " '__annotations__',\n",
       " '__class__',\n",
       " '__delattr__',\n",
       " '__dict__',\n",
       " '__dir__',\n",
       " '__doc__',\n",
       " '__eq__',\n",
       " '__format__',\n",
       " '__ge__',\n",
       " '__getattribute__',\n",
       " '__gt__',\n",
       " '__hash__',\n",
       " '__init__',\n",
       " '__init_subclass__',\n",
       " '__le__',\n",
       " '__lt__',\n",
       " '__module__',\n",
       " '__ne__',\n",
       " '__new__',\n",
       " '__reduce__',\n",
       " '__reduce_ex__',\n",
       " '__repr__',\n",
       " '__setattr__',\n",
       " '__sizeof__',\n",
       " '__str__',\n",
       " '__subclasshook__',\n",
       " '__weakref__',\n",
       " '_ens',\n",
       " '_strict_bytes_type_checking',\n",
       " 'api',\n",
       " 'attach_modules',\n",
       " 'client_version',\n",
       " 'codec',\n",
       " 'enable_unstable_package_management_api',\n",
       " 'ens',\n",
       " 'eth',\n",
       " 'from_wei',\n",
       " 'geth',\n",
       " 'is_address',\n",
       " 'is_checksum_address',\n",
       " 'is_connected',\n",
       " 'is_encodable',\n",
       " 'keccak',\n",
       " 'manager',\n",
       " 'middleware_onion',\n",
       " 'net',\n",
       " 'normalize_values',\n",
       " 'pm',\n",
       " 'provider',\n",
       " 'solidity_keccak',\n",
       " 'strict_bytes_type_checking',\n",
       " 'testing',\n",
       " 'to_bytes',\n",
       " 'to_checksum_address',\n",
       " 'to_hex',\n",
       " 'to_int',\n",
       " 'to_json',\n",
       " 'to_text',\n",
       " 'to_wei',\n",
       " 'tracing']"
      ]
     },
     "execution_count": 11,
     "metadata": {},
     "output_type": "execute_result"
    }
   ],
   "source": [
    "dir(w3)"
   ]
  },
  {
   "cell_type": "code",
   "execution_count": null,
   "id": "17fafe61-dbcb-4e91-9299-ff08db1656b7",
   "metadata": {},
   "outputs": [],
   "source": [
    "################################################################################\n",
    "# Wallet functionality\n",
    "\n",
    "def generate_account():\n",
    "    \"\"\"Create a digital wallet and Ethereum account from a mnemonic seed phrase.\"\"\"\n",
    "    # Fetch mnemonic from environment variable.\n",
    "    mnemonic = os.getenv(\"MNEMONIC\")\n",
    "\n",
    "    # Create Wallet Object\n",
    "    wallet = Wallet(mnemonic)\n",
    "\n",
    "    # Derive Ethereum Private Key\n",
    "    private, public = wallet.derive_account(\"eth\")\n",
    "\n",
    "\n",
    "    # Convert private key into an Ethereum account\n",
    "    account = Account.privateKeyToAccount(private)\n",
    "\n",
    "    return account\n",
    "\n",
    "def get_balance(w3, address):\n",
    "    \"\"\"Using an Ethereum account address access the balance of Ether\"\"\"\n",
    "    # Get balance of address in Wei\n",
    "    wei_balance = w3.eth.get_balance(address)\n",
    "\n",
    "    # Convert Wei value to ether\n",
    "    ether = w3.fromWei(wei_balance, \"ether\")\n",
    "\n",
    "    # Return the value in ether\n",
    "    return ether\n",
    "\n",
    "\n",
    "def send_transaction(w3, account, to, wage):\n",
    "    \"\"\"Send an authorized transaction to the Ganache blockchain.\"\"\"\n",
    "    # Set gas price strategy\n",
    "    w3.eth.setGasPriceStrategy(medium_gas_price_strategy)\n",
    "\n",
    "    # Convert eth amount to Wei\n",
    "    value = w3.toWei(wage, \"ether\")\n",
    "\n",
    "    # Calculate gas estimate\n",
    "    gasEstimate = w3.eth.estimateGas({\"to\": to, \"from\": account.address, \"value\": value})\n",
    "\n",
    "    # Construct a raw transaction\n",
    "    raw_tx = {\n",
    "        \"to\": to,\n",
    "        \"from\": account.address,\n",
    "        \"value\": value,\n",
    "        \"gas\": gasEstimate,\n",
    "        \"gasPrice\": 0,\n",
    "        \"nonce\": w3.eth.getTransactionCount(account.address)\n",
    "    }\n",
    "\n",
    "    # Sign the raw transaction with ethereum account\n",
    "    signed_tx = account.signTransaction(raw_tx)\n",
    "\n",
    "    # Send the signed transactions\n",
    "    return w3.eth.sendRawTransaction(signed_tx.rawTransaction)"
   ]
  }
 ],
 "metadata": {
  "kernelspec": {
   "display_name": "Python 3 (ipykernel)",
   "language": "python",
   "name": "python3"
  },
  "language_info": {
   "codemirror_mode": {
    "name": "ipython",
    "version": 3
   },
   "file_extension": ".py",
   "mimetype": "text/x-python",
   "name": "python",
   "nbconvert_exporter": "python",
   "pygments_lexer": "ipython3",
   "version": "3.9.16"
  }
 },
 "nbformat": 4,
 "nbformat_minor": 5
}
